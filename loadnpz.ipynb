{
 "cells": [
  {
   "cell_type": "markdown",
   "metadata": {},
   "source": [
    "# 压缩格式存储"
   ]
  },
  {
   "cell_type": "code",
   "execution_count": 4,
   "metadata": {},
   "outputs": [
    {
     "data": {
      "text/plain": [
       "array([[1, 0, 2],\n",
       "       [0, 0, 3],\n",
       "       [4, 5, 6]])"
      ]
     },
     "execution_count": 4,
     "metadata": {},
     "output_type": "execute_result"
    }
   ],
   "source": [
    "import numpy as np\n",
    "from scipy.sparse import coo_matrix,csr_matrix, csc_matrix\n",
    "#  示例解读\n",
    "indptr = np.array([0, 2, 3, 6])\n",
    "indices = np.array([0, 2, 2, 0, 1, 2])\n",
    "data = np.array([1, 2, 3, 4, 5, 6])\n",
    "csr_matrix((data, indices, indptr), shape=(3, 3)).toarray()\n",
    "# 按row行来压缩\n",
    "# 对于第i行，非0数据列是indices[indptr[i]:indptr[i+1]] 数据是data[indptr[i]:indptr[i+1]]\n",
    "# 在本例中\n",
    "# 第0行，有非0的数据列是indices[indptr[0]:indptr[1]] = indices[0:2] = [0,2]\n",
    "# 数据是data[indptr[0]:indptr[1]] = data[0:2] = [1,2],所以在第0行第0列是1，第2列是2\n",
    "# 第1行，有非0的数据列是indices[indptr[1]:indptr[2]] = indices[2:3] = [2]\n",
    "# 数据是data[indptr[1]:indptr[2] = data[2:3] = [3],所以在第1行第2列是3\n",
    "# 第2行，有非0的数据列是indices[indptr[2]:indptr[3]] = indices[3:6] = [0,1,2]\n",
    "# 数据是data[indptr[2]:indptr[3]] = data[3:6] = [4,5,6],所以在第2行第0列是4，第1列是5,第2列是6"
   ]
  },
  {
   "cell_type": "code",
   "execution_count": 5,
   "metadata": {},
   "outputs": [
    {
     "data": {
      "text/plain": [
       "array([[1, 0, 4],\n",
       "       [0, 0, 5],\n",
       "       [2, 3, 6]])"
      ]
     },
     "execution_count": 5,
     "metadata": {},
     "output_type": "execute_result"
    }
   ],
   "source": [
    "indptr = np.array([0, 2, 3, 6])\n",
    "indices = np.array([0, 2, 2, 0, 1, 2])\n",
    "data = np.array([1, 2, 3, 4, 5, 6])\n",
    "csc_matrix((data, indices, indptr), shape=(3, 3)).toarray()\n",
    "\n",
    "# 按col列来压缩\n",
    "# i = 0\n",
    "# 对于第i列，非0数据行是indices[indptr[i]:indptr[i+1]] 数据是data[indptr[i]:indptr[i+1]]\n",
    "# 在本例中\n",
    "# 第0列，有非0的数据行是indices[indptr[0]:indptr[1]] = indices[0:2] = [0,2]\n",
    "# 数据是data[indptr[0]:indptr[1]] = data[0:2] = [1,2],所以在第0列第0行是1，第2行是2\n",
    "# 第1行，有非0的数据行是indices[indptr[1]:indptr[2]] = indices[2:3] = [2]\n",
    "# 数据是data[indptr[1]:indptr[2] = data[2:3] = [3],所以在第1列第2行是3\n",
    "# 第2行，有非0的数据行是indices[indptr[2]:indptr[3]] = indices[3:6] = [0,1,2]\n",
    "# 数据是data[indptr[2]:indptr[3]] = data[3:6] = [4,5,6],所以在第2列第0行是4，第1行是5,第2行是6"
   ]
  },
  {
   "cell_type": "code",
   "execution_count": 23,
   "metadata": {},
   "outputs": [
    {
     "name": "stdout",
     "output_type": "stream",
     "text": [
      "  (0, 0)\t2\n",
      "  (0, 2)\t1\n",
      "  (1, 1)\t3\n",
      "  (3, 3)\t1\n",
      "  (1, 1)\t2\n",
      "  (0, 0)\t1\n",
      "  (0, 0)\t4\n",
      "----------Array----------\n",
      "[[7 0 1 0]\n",
      " [0 5 0 0]\n",
      " [0 0 0 0]\n",
      " [0 0 0 1]]\n",
      "---------tocsc-----------\n",
      "  (0, 0)\t7\n",
      "  (1, 1)\t5\n",
      "  (0, 2)\t1\n",
      "  (3, 3)\t1\n",
      "--------todense------------\n",
      "[[7 0 1 0]\n",
      " [0 5 0 0]\n",
      " [0 0 0 0]\n",
      " [0 0 0 1]]\n"
     ]
    }
   ],
   "source": [
    "from numpy import array\n",
    "from scipy.sparse import coo_matrix\n",
    "row  = array([0,0,1,3,1,0,0])\n",
    "col  = array([0,2,1,3,1,0,0])\n",
    "data = array([2,1,3,1,2,1,4])\n",
    "A = coo_matrix((data,(row,col)), shape=(4,4))\n",
    "print(A)\n",
    "print(\"----------Array----------\")\n",
    "print(A.toarray())\n",
    "\n",
    "B = A.tocsc()\n",
    "print(\"---------tocsc-----------\")\n",
    "print(B)\n",
    "\n",
    "C = B.todense()\n",
    "print(\"--------todense------------\")\n",
    "print(C)"
   ]
  },
  {
   "cell_type": "markdown",
   "metadata": {},
   "source": [
    "# 读取邻接矩阵\n",
    "采用压缩文件格式，51984 => 38464, 压缩率74%"
   ]
  },
  {
   "cell_type": "code",
   "execution_count": 7,
   "metadata": {},
   "outputs": [
    {
     "name": "stdout",
     "output_type": "stream",
     "text": [
      "['indices', 'indptr', 'format', 'shape', 'data']\n"
     ]
    }
   ],
   "source": [
    "import numpy as np\n",
    "\n",
    "data = np.load('./data/pemsd7-m/adj.npz')\n",
    "print(data.files)"
   ]
  },
  {
   "cell_type": "code",
   "execution_count": 18,
   "metadata": {},
   "outputs": [
    {
     "name": "stdout",
     "output_type": "stream",
     "text": [
      "(19118,)\n"
     ]
    }
   ],
   "source": [
    "print(data['indices'].shape)\n",
    "# ele ∈ [0, 227]"
   ]
  },
  {
   "cell_type": "code",
   "execution_count": 17,
   "metadata": {},
   "outputs": [
    {
     "name": "stdout",
     "output_type": "stream",
     "text": [
      "[    0    48   123   212   318   407   494   587   645   731   836   945\n",
      "  1024  1117  1184  1293  1376  1430  1493  1596  1642  1747  1823  1925\n",
      "  2011  2110  2209  2311  2358  2436  2541  2647  2754  2860  2960  3065\n",
      "  3168  3267  3366  3407  3506  3553  3652  3731  3777  3831  3885  3991\n",
      "  4090  4191  4278  4364  4465  4568  4653  4786  4869  4956  5092  5226\n",
      "  5329  5432  5540  5625  5731  5835  5969  6102  6208  6338  6446  6533\n",
      "  6619  6722  6802  6900  6994  7085  7215  7305  7392  7485  7607  7695\n",
      "  7808  7928  8057  8150  8271  8358  8452  8556  8650  8757  8851  8949\n",
      "  9074  9199  9293  9373  9495  9613  9706  9808  9882  9986 10060 10150\n",
      " 10267 10333 10391 10427 10456 10520 10549 10618 10673 10731 10786 10855\n",
      " 10899 10959 11011 11063 11116 11187 11240 11308 11374 11430 11486 11547\n",
      " 11587 11648 11712 11768 11799 11860 11914 11970 12033 12079 12193 12328\n",
      " 12445 12509 12647 12782 12862 12996 13063 13140 13233 13326 13416 13509\n",
      " 13591 13661 13743 13814 13862 13934 13966 14037 14115 14201 14281 14367\n",
      " 14450 14543 14627 14717 14790 14874 14954 15020 15096 15157 15222 15306\n",
      " 15381 15421 15503 15596 15671 15752 15833 15906 15972 16055 16146 16189\n",
      " 16226 16287 16368 16463 16546 16627 16714 16754 16794 16880 16967 17046\n",
      " 17118 17207 17279 17357 17447 17535 17583 17662 17694 17773 17813 17905\n",
      " 18004 18079 18185 18280 18384 18478 18565 18668 18759 18863 18948 19014\n",
      " 19118]\n"
     ]
    }
   ],
   "source": [
    "# shape: (229,)\n",
    "print(data['indptr'])"
   ]
  },
  {
   "cell_type": "code",
   "execution_count": 11,
   "metadata": {},
   "outputs": [
    {
     "name": "stdout",
     "output_type": "stream",
     "text": [
      "b'csc'\n",
      "[228 228]\n"
     ]
    }
   ],
   "source": [
    "print(data['format'])\n",
    "\n",
    "print(data['shape'])"
   ]
  },
  {
   "cell_type": "code",
   "execution_count": 13,
   "metadata": {},
   "outputs": [
    {
     "name": "stdout",
     "output_type": "stream",
     "text": [
      "(19118,)\n"
     ]
    }
   ],
   "source": [
    "print(data['data'].shape)"
   ]
  },
  {
   "cell_type": "markdown",
   "metadata": {},
   "source": [
    "# 读取数据文件vel.csv\n"
   ]
  },
  {
   "cell_type": "code",
   "execution_count": 14,
   "metadata": {},
   "outputs": [
    {
     "name": "stdout",
     "output_type": "stream",
     "text": [
      "(12672, 228)\n"
     ]
    }
   ],
   "source": [
    "with open('./data/pemsd7-m/vel.csv', encoding='utf-8') as f:\n",
    "    data_2 = np.loadtxt(f, delimiter=\",\")\n",
    "    print(data_2.shape)"
   ]
  },
  {
   "cell_type": "markdown",
   "metadata": {},
   "source": [
    "# sp.load_npz()"
   ]
  },
  {
   "cell_type": "code",
   "execution_count": 26,
   "metadata": {},
   "outputs": [
    {
     "name": "stdout",
     "output_type": "stream",
     "text": [
      "  (0, 0)\t1.0\n",
      "  (1, 0)\t0.874723658573536\n",
      "  (2, 0)\t0.3612846282098772\n",
      "  (3, 0)\t0.150751115862349\n",
      "  (4, 0)\t0.44773753416261347\n",
      "  (7, 0)\t0.9366682108438592\n",
      "  (8, 0)\t0.6294460508233404\n",
      "  (11, 0)\t0.7839333057097398\n",
      "  (12, 0)\t0.3309976422216514\n",
      "  (15, 0)\t0.6802770768089623\n",
      "  (58, 0)\t0.10052330878754748\n",
      "  (65, 0)\t0.10478651398778062\n",
      "  (68, 0)\t0.12590298087652654\n",
      "  (108, 0)\t0.5608901322885123\n",
      "  (109, 0)\t0.6899634477684644\n",
      "  (112, 0)\t0.20452601018760724\n",
      "  (114, 0)\t0.32572485193348727\n",
      "  (115, 0)\t0.8756092297080661\n",
      "  (116, 0)\t0.1010639188922501\n",
      "  (118, 0)\t0.30866295600959187\n",
      "  (120, 0)\t0.7924221612667589\n",
      "  (123, 0)\t0.9318102066961166\n",
      "  (124, 0)\t0.4643323538620246\n",
      "  (126, 0)\t0.5328487422206488\n",
      "  (127, 0)\t0.8412964212185728\n",
      "  :\t:\n",
      "  (185, 227)\t0.406905517928299\n",
      "  (186, 227)\t0.15049343836804044\n",
      "  (187, 227)\t0.18220630019898112\n",
      "  (188, 227)\t0.3979505510953252\n",
      "  (192, 227)\t0.17455919974749026\n",
      "  (193, 227)\t0.4049386337428703\n",
      "  (195, 227)\t0.13101336046275158\n",
      "  (197, 227)\t0.13362495666231547\n",
      "  (203, 227)\t0.2559489535353037\n",
      "  (205, 227)\t0.2559489535353037\n",
      "  (206, 227)\t0.13119130213757788\n",
      "  (208, 227)\t0.13703071966781566\n",
      "  (212, 227)\t0.3271321713424768\n",
      "  (214, 227)\t0.9789399207747749\n",
      "  (215, 227)\t0.7100682724841818\n",
      "  (216, 227)\t0.6673605044572273\n",
      "  (217, 227)\t0.9496386050678793\n",
      "  (218, 227)\t0.31162640318176\n",
      "  (219, 227)\t0.9889870256068781\n",
      "  (220, 227)\t0.9894360767497662\n",
      "  (221, 227)\t0.9339639275773304\n",
      "  (222, 227)\t0.9829113620740223\n",
      "  (223, 227)\t0.11876058906945391\n",
      "  (224, 227)\t1.0\n",
      "  (227, 227)\t1.0\n",
      "  (0, 0)\t1.0\n",
      "  (1, 0)\t0.874723658573536\n",
      "  (2, 0)\t0.3612846282098772\n",
      "  (3, 0)\t0.150751115862349\n",
      "  (4, 0)\t0.44773753416261347\n",
      "  (7, 0)\t0.9366682108438592\n",
      "  (8, 0)\t0.6294460508233404\n",
      "  (11, 0)\t0.7839333057097398\n",
      "  (12, 0)\t0.3309976422216514\n",
      "  (15, 0)\t0.6802770768089623\n",
      "  (58, 0)\t0.10052330878754748\n",
      "  (65, 0)\t0.10478651398778062\n",
      "  (68, 0)\t0.12590298087652654\n",
      "  (108, 0)\t0.5608901322885123\n",
      "  (109, 0)\t0.6899634477684644\n",
      "  (112, 0)\t0.20452601018760724\n",
      "  (114, 0)\t0.32572485193348727\n",
      "  (115, 0)\t0.8756092297080661\n",
      "  (116, 0)\t0.1010639188922501\n",
      "  (118, 0)\t0.30866295600959187\n",
      "  (120, 0)\t0.7924221612667589\n",
      "  (123, 0)\t0.9318102066961166\n",
      "  (124, 0)\t0.4643323538620246\n",
      "  (126, 0)\t0.5328487422206488\n",
      "  (127, 0)\t0.8412964212185728\n",
      "  :\t:\n",
      "  (185, 227)\t0.406905517928299\n",
      "  (186, 227)\t0.15049343836804044\n",
      "  (187, 227)\t0.18220630019898112\n",
      "  (188, 227)\t0.3979505510953252\n",
      "  (192, 227)\t0.17455919974749026\n",
      "  (193, 227)\t0.4049386337428703\n",
      "  (195, 227)\t0.13101336046275158\n",
      "  (197, 227)\t0.13362495666231547\n",
      "  (203, 227)\t0.2559489535353037\n",
      "  (205, 227)\t0.2559489535353037\n",
      "  (206, 227)\t0.13119130213757788\n",
      "  (208, 227)\t0.13703071966781566\n",
      "  (212, 227)\t0.3271321713424768\n",
      "  (214, 227)\t0.9789399207747749\n",
      "  (215, 227)\t0.7100682724841818\n",
      "  (216, 227)\t0.6673605044572273\n",
      "  (217, 227)\t0.9496386050678793\n",
      "  (218, 227)\t0.31162640318176\n",
      "  (219, 227)\t0.9889870256068781\n",
      "  (220, 227)\t0.9894360767497662\n",
      "  (221, 227)\t0.9339639275773304\n",
      "  (222, 227)\t0.9829113620740223\n",
      "  (223, 227)\t0.11876058906945391\n",
      "  (224, 227)\t1.0\n",
      "  (227, 227)\t1.0\n"
     ]
    },
    {
     "name": "stderr",
     "output_type": "stream",
     "text": [
      "E:\\Anaconda\\lib\\site-packages\\IPython\\core\\interactiveshell.py:3457: SparseEfficiencyWarning: Comparing sparse matrices using == is inefficient, try using != instead.\n",
      "  exec(code_obj, self.user_global_ns, self.user_ns)\n"
     ]
    },
    {
     "ename": "ValueError",
     "evalue": "The truth value of an array with more than one element is ambiguous. Use a.any() or a.all().",
     "output_type": "error",
     "traceback": [
      "\u001B[1;31m---------------------------------------------------------------------------\u001B[0m",
      "\u001B[1;31mValueError\u001B[0m                                Traceback (most recent call last)",
      "\u001B[1;32m~\\AppData\\Local\\Temp\\ipykernel_25564\\3377457418.py\u001B[0m in \u001B[0;36m<module>\u001B[1;34m\u001B[0m\n\u001B[0;32m      6\u001B[0m \u001B[1;33m\u001B[0m\u001B[0m\n\u001B[0;32m      7\u001B[0m \u001B[0mprint\u001B[0m\u001B[1;33m(\u001B[0m\u001B[0mdata\u001B[0m\u001B[1;33m.\u001B[0m\u001B[0mtocsc\u001B[0m\u001B[1;33m(\u001B[0m\u001B[1;33m)\u001B[0m\u001B[1;33m)\u001B[0m\u001B[1;33m\u001B[0m\u001B[1;33m\u001B[0m\u001B[0m\n\u001B[1;32m----> 8\u001B[1;33m \u001B[1;32mif\u001B[0m \u001B[0mdata1\u001B[0m \u001B[1;33m==\u001B[0m \u001B[0mdata\u001B[0m\u001B[1;33m:\u001B[0m\u001B[1;33m\u001B[0m\u001B[1;33m\u001B[0m\u001B[0m\n\u001B[0m\u001B[0;32m      9\u001B[0m     \u001B[0mprint\u001B[0m\u001B[1;33m(\u001B[0m\u001B[1;36m1\u001B[0m\u001B[1;33m)\u001B[0m\u001B[1;33m\u001B[0m\u001B[1;33m\u001B[0m\u001B[0m\n",
      "\u001B[1;32mE:\\Anaconda\\lib\\site-packages\\scipy\\sparse\\_base.py\u001B[0m in \u001B[0;36m__bool__\u001B[1;34m(self)\u001B[0m\n\u001B[0;32m    335\u001B[0m             \u001B[1;32mreturn\u001B[0m \u001B[0mself\u001B[0m\u001B[1;33m.\u001B[0m\u001B[0mnnz\u001B[0m \u001B[1;33m!=\u001B[0m \u001B[1;36m0\u001B[0m\u001B[1;33m\u001B[0m\u001B[1;33m\u001B[0m\u001B[0m\n\u001B[0;32m    336\u001B[0m         \u001B[1;32melse\u001B[0m\u001B[1;33m:\u001B[0m\u001B[1;33m\u001B[0m\u001B[1;33m\u001B[0m\u001B[0m\n\u001B[1;32m--> 337\u001B[1;33m             raise ValueError(\"The truth value of an array with more than one \"\n\u001B[0m\u001B[0;32m    338\u001B[0m                              \"element is ambiguous. Use a.any() or a.all().\")\n\u001B[0;32m    339\u001B[0m     \u001B[0m__nonzero__\u001B[0m \u001B[1;33m=\u001B[0m \u001B[0m__bool__\u001B[0m\u001B[1;33m\u001B[0m\u001B[1;33m\u001B[0m\u001B[0m\n",
      "\u001B[1;31mValueError\u001B[0m: The truth value of an array with more than one element is ambiguous. Use a.any() or a.all()."
     ]
    }
   ],
   "source": [
    "import scipy.sparse as sp\n",
    "\n",
    "data = sp.load_npz('./data/pemsd7-m/adj.npz')\n",
    "data1 = data\n",
    "print(data)\n",
    "\n",
    "print(data.tocsc())\n",
    "if data1 == data:\n",
    "    print(1)"
   ]
  },
  {
   "cell_type": "code",
   "execution_count": 20,
   "metadata": {},
   "outputs": [
    {
     "name": "stdout",
     "output_type": "stream",
     "text": [
      "['indices', 'indptr', 'format', 'shape', 'data']\n"
     ]
    }
   ],
   "source": [
    "import numpy as np\n",
    "\n",
    "data = np.load('./data/pemsd7-m/adj.npz')\n",
    "print(data.files)"
   ]
  },
  {
   "cell_type": "code",
   "execution_count": 21,
   "outputs": [
    {
     "name": "stdout",
     "output_type": "stream",
     "text": [
      "19118\n",
      "[1.         0.87472366 0.36128463 ... 0.11876059 1.         1.        ]\n"
     ]
    }
   ],
   "source": [
    "print(len(data['data']))\n",
    "print(data['data'])"
   ],
   "metadata": {
    "collapsed": false
   }
  },
  {
   "cell_type": "code",
   "execution_count": 30,
   "outputs": [
    {
     "name": "stdout",
     "output_type": "stream",
     "text": [
      "-0.6931471805599453\n"
     ]
    }
   ],
   "source": [
    "import math\n",
    "\n",
    "print(math.log(1/2))"
   ],
   "metadata": {
    "collapsed": false
   }
  },
  {
   "cell_type": "code",
   "execution_count": 47,
   "outputs": [
    {
     "name": "stdout",
     "output_type": "stream",
     "text": [
      "[[0 0]\n",
      " [2 0]\n",
      " [0 2]\n",
      " [1 2]\n",
      " [2 2]]\n",
      "indptr: [0, 2, 2, 5]\n",
      "indices: [0, 2, 0, 1, 2]\n",
      "data: [1, 4, 3, 2, 5]\n"
     ]
    }
   ],
   "source": [
    "import numpy as np\n",
    "\n",
    "def matrix_to_csc(matrix):\n",
    "    rows, cols = matrix.shape\n",
    "    non_zero_indices = np.transpose(np.nonzero(matrix))  # 获取非零元素的坐标并转置\n",
    "    non_zero_indices_sorted = non_zero_indices[np.argsort(non_zero_indices[:, 1])]\n",
    "    print(non_zero_indices_sorted)\n",
    "    # 构建CSC格式的三个数组\n",
    "    indptr = [0]\n",
    "    indices = []\n",
    "    data = []\n",
    "\n",
    "    current_col = 0\n",
    "    for row_idx,col_idx  in non_zero_indices_sorted:\n",
    "\n",
    "            # 更新indptr数组\n",
    "        while col_idx > current_col:\n",
    "            indptr.append(len(indices))\n",
    "            current_col += 1\n",
    "\n",
    "\n",
    "        # 存储非零元素的行索引和值\n",
    "        indices.append(row_idx)\n",
    "        data.append(matrix[row_idx, col_idx])\n",
    "\n",
    "\n",
    "    indptr.append(len(indices))\n",
    "    current_col += 1\n",
    "    return indptr, indices, data\n",
    "\n",
    "# 示例使用\n",
    "matrix = np.array([[1, 0, 3],\n",
    "                   [0, 0, 2],\n",
    "                   [4, 0, 5]])\n",
    "\n",
    "indptr, indices, data = matrix_to_csc(matrix)\n",
    "\n",
    "print(\"indptr:\", indptr)  # [0 2 3 5]\n",
    "print(\"indices:\", indices)  # [0 2 0 2 2]\n",
    "print(\"data:\", data)  # [1 4 3 2 5]\n"
   ],
   "metadata": {
    "collapsed": false
   }
  },
  {
   "cell_type": "code",
   "execution_count": null,
   "outputs": [],
   "source": [],
   "metadata": {
    "collapsed": false
   }
  }
 ],
 "metadata": {
  "kernelspec": {
   "display_name": "Python 3.9.12 ('base')",
   "language": "python",
   "name": "python3"
  },
  "language_info": {
   "codemirror_mode": {
    "name": "ipython",
    "version": 3
   },
   "file_extension": ".py",
   "mimetype": "text/x-python",
   "name": "python",
   "nbconvert_exporter": "python",
   "pygments_lexer": "ipython3",
   "version": "3.9.12"
  },
  "orig_nbformat": 4,
  "vscode": {
   "interpreter": {
    "hash": "c3179c826f643fd025e3e6554fcd2e41b7b571e88697c3161097640e4023202f"
   }
  }
 },
 "nbformat": 4,
 "nbformat_minor": 2
}

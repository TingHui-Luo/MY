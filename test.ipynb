{
 "cells": [
  {
   "cell_type": "code",
   "execution_count": 26,
   "metadata": {
    "collapsed": true
   },
   "outputs": [
    {
     "data": {
      "text/plain": [
       "-0.13384725964811603"
      ]
     },
     "execution_count": 26,
     "metadata": {},
     "output_type": "execute_result"
    }
   ],
   "source": [
    "import math\n",
    "\n",
    "math.log(0.87472366)"
   ]
  },
  {
   "cell_type": "code",
   "execution_count": 27,
   "metadata": {},
   "outputs": [
    {
     "data": {
      "text/plain": [
       "1.140175425099138"
      ]
     },
     "execution_count": 27,
     "metadata": {},
     "output_type": "execute_result"
    }
   ],
   "source": [
    "math.sqrt(1.3)"
   ]
  },
  {
   "cell_type": "code",
   "execution_count": 28,
   "metadata": {},
   "outputs": [
    {
     "name": "stdout",
     "output_type": "stream",
     "text": [
      "[('0', '34.041407', '-118.218373'), ('1', '34.020961', '-118.195456'), ('2', '33.995023', '-118.144513'), ('3', '33.971763', '-118.122905'), ('4', '34.002541', '-118.150997'), ('5', '33.911074', '-118.071686'), ('6', '33.920763', '-118.082501'), ('7', '34.025109', '-118.20517'), ('8', '34.013529', '-118.166192'), ('9', '33.939747', '-118.095531'), ('10', '33.958225', '-118.11239'), ('11', '34.019879', '-118.181588'), ('12', '33.992211', '-118.142079'), ('13', '33.880183', '-118.021787'), ('14', '33.95891', '-118.113036'), ('15', '34.015325', '-118.17127'), ('16', '34.01717', '-118.05398'), ('17', '34.009316', '-118.057906'), ('18', '33.909354', '-118.104924'), ('19', '34.028108', '-118.035925'), ('20', '33.958124', '-118.087014'), ('21', '33.994073', '-118.069196'), ('22', '33.894293', '-118.104912'), ('23', '33.985594', '-118.072012'), ('24', '33.902407', '-118.105114'), ('25', '33.903565', '-118.10513'), ('26', '33.886248', '-118.104435'), ('27', '34.026653', '-118.038537'), ('28', '33.992205', '-118.069649'), ('29', '33.958207', '-118.087265'), ('30', '33.950974', '-118.091381'), ('31', '33.942882', '-118.09562')]\n"
     ]
    }
   ],
   "source": [
    "newDataInfo = []\n",
    "import csv\n",
    "with open('./data/PeMSD7_M_Station_Info.csv','r', encoding='utf-8') as f:\n",
    "    csvreader = csv.reader(f)\n",
    "    for row in csvreader:\n",
    "\n",
    "        newDataInfo.append((row[0], row[-2], row[-1]))\n",
    "    # delelt csv head\n",
    "    newDataInfo.pop(0)\n",
    "print(newDataInfo[:32])\n"
   ]
  },
  {
   "cell_type": "code",
   "execution_count": 29,
   "metadata": {},
   "outputs": [
    {
     "name": "stdout",
     "output_type": "stream",
     "text": [
      "[[], [], [], [], [], [], [], [], []]\n",
      "0\n",
      "1\n",
      "3\n",
      "8\n",
      "8\n",
      "4\n",
      "0\n",
      "2\n",
      "6\n",
      "0\n",
      "Cube 1: [(1, 2), (2, 3), (1, 2)]\n",
      "Cube 2: [(4, 3)]\n",
      "Cube 3: [(9, 1)]\n",
      "Cube 4: [(2, 5)]\n",
      "Cube 5: [(5, 6)]\n",
      "Cube 6: []\n",
      "Cube 7: [(3, 7)]\n",
      "Cube 8: []\n",
      "Cube 9: [(7, 8), (8, 9)]\n"
     ]
    }
   ],
   "source": [
    "import math\n",
    "infNum = 1e-6\n",
    "def partition_into_cubes(points):\n",
    "    # Step 1: Find the bounding box of the points\n",
    "    x_min = min(point[0] for point in points)\n",
    "    x_max = max(point[0] for point in points)\n",
    "    y_min = min(point[1] for point in points)\n",
    "    y_max = max(point[1] for point in points)\n",
    "\n",
    "    # Step 2: Calculate the cube side length\n",
    "    x_range = x_max - x_min\n",
    "    y_range = y_max - y_min\n",
    "    cube_side_length_x = x_range / 3\n",
    "    cube_side_length_y = y_range / 3\n",
    "\n",
    "    # Step 3: Partition points into cubes\n",
    "    cubes = [[] for _ in range(9)]\n",
    "    print(cubes)\n",
    "    for point in points:\n",
    "        point_x = point[0]\n",
    "        point_y = point[1]\n",
    "        col_index = math.floor((point_x - x_min) / (cube_side_length_x + infNum))\n",
    "        row_index = math.floor((point_y - y_min) / (cube_side_length_y + infNum))\n",
    "        cube_index = col_index + 3 * row_index\n",
    "        print(cube_index)\n",
    "        cubes[cube_index].append(point)\n",
    "\n",
    "    return cubes\n",
    "\n",
    "# Example usage:\n",
    "points = [(1, 2), (4, 3), (2, 5), (7, 8), (8, 9), (5, 6), (2, 3), (9, 1), (3, 7),(1,2)]\n",
    "cubes = partition_into_cubes(points)\n",
    "for i, cube in enumerate(cubes):\n",
    "    print(f\"Cube {i+1}: {cube}\")\n"
   ]
  },
  {
   "cell_type": "code",
   "execution_count": 2,
   "metadata": {},
   "outputs": [
    {
     "name": "stdout",
     "output_type": "stream",
     "text": [
      "['indices', 'indptr', 'format', 'shape', 'data']\n",
      "[1.         0.44773753 0.87472366 0.15075112 0.36128463 0.87472366\n",
      " 0.74496235 1.         0.35978571 0.6553171  0.98577921 0.86616852\n",
      " 0.17281506 0.6553171  0.36128463 1.         0.35978571 1.\n",
      " 0.40803697 0.15075112 0.77981359 0.86616852 1.         0.98577921\n",
      " 0.12408173 0.74496235 0.77981359 0.44773753 0.17281506 0.40803697\n",
      " 0.12408173 1.        ]\n"
     ]
    }
   ],
   "source": [
    "import numpy as np\n",
    "data = np.load(\"./data/pemsd7-m-6/adj.npz\")\n",
    "print(data.files)\n",
    "print(data['data'])"
   ]
  },
  {
   "cell_type": "code",
   "execution_count": 2,
   "metadata": {},
   "outputs": [
    {
     "ename": "RuntimeError",
     "evalue": "context has already been set",
     "output_type": "error",
     "traceback": [
      "\u001B[1;31m---------------------------------------------------------------------------\u001B[0m",
      "\u001B[1;31mRuntimeError\u001B[0m                              Traceback (most recent call last)",
      "\u001B[1;32m~\\AppData\\Local\\Temp\\ipykernel_15936\\3793021841.py\u001B[0m in \u001B[0;36m<module>\u001B[1;34m\u001B[0m\n\u001B[0;32m     21\u001B[0m     \u001B[0msize\u001B[0m \u001B[1;33m=\u001B[0m \u001B[1;36m2\u001B[0m\u001B[1;33m\u001B[0m\u001B[1;33m\u001B[0m\u001B[0m\n\u001B[0;32m     22\u001B[0m     \u001B[0mprocesses\u001B[0m \u001B[1;33m=\u001B[0m \u001B[1;33m[\u001B[0m\u001B[1;33m]\u001B[0m\u001B[1;33m\u001B[0m\u001B[1;33m\u001B[0m\u001B[0m\n\u001B[1;32m---> 23\u001B[1;33m     \u001B[0mmp\u001B[0m\u001B[1;33m.\u001B[0m\u001B[0mset_start_method\u001B[0m\u001B[1;33m(\u001B[0m\u001B[1;34m\"spawn\"\u001B[0m\u001B[1;33m)\u001B[0m\u001B[1;33m\u001B[0m\u001B[1;33m\u001B[0m\u001B[0m\n\u001B[0m\u001B[0;32m     24\u001B[0m     \u001B[1;32mfor\u001B[0m \u001B[0mrank\u001B[0m \u001B[1;32min\u001B[0m \u001B[0mrange\u001B[0m\u001B[1;33m(\u001B[0m\u001B[0msize\u001B[0m\u001B[1;33m)\u001B[0m\u001B[1;33m:\u001B[0m\u001B[1;33m\u001B[0m\u001B[1;33m\u001B[0m\u001B[0m\n\u001B[0;32m     25\u001B[0m         \u001B[0mp\u001B[0m \u001B[1;33m=\u001B[0m \u001B[0mmp\u001B[0m\u001B[1;33m.\u001B[0m\u001B[0mProcess\u001B[0m\u001B[1;33m(\u001B[0m\u001B[0mtarget\u001B[0m\u001B[1;33m=\u001B[0m\u001B[0minit_process\u001B[0m\u001B[1;33m,\u001B[0m \u001B[0margs\u001B[0m\u001B[1;33m=\u001B[0m\u001B[1;33m(\u001B[0m\u001B[0mrank\u001B[0m\u001B[1;33m,\u001B[0m \u001B[0msize\u001B[0m\u001B[1;33m,\u001B[0m \u001B[0mrun\u001B[0m\u001B[1;33m)\u001B[0m\u001B[1;33m)\u001B[0m\u001B[1;33m\u001B[0m\u001B[1;33m\u001B[0m\u001B[0m\n",
      "\u001B[1;32mE:\\Anaconda\\lib\\multiprocessing\\context.py\u001B[0m in \u001B[0;36mset_start_method\u001B[1;34m(self, method, force)\u001B[0m\n\u001B[0;32m    241\u001B[0m     \u001B[1;32mdef\u001B[0m \u001B[0mset_start_method\u001B[0m\u001B[1;33m(\u001B[0m\u001B[0mself\u001B[0m\u001B[1;33m,\u001B[0m \u001B[0mmethod\u001B[0m\u001B[1;33m,\u001B[0m \u001B[0mforce\u001B[0m\u001B[1;33m=\u001B[0m\u001B[1;32mFalse\u001B[0m\u001B[1;33m)\u001B[0m\u001B[1;33m:\u001B[0m\u001B[1;33m\u001B[0m\u001B[1;33m\u001B[0m\u001B[0m\n\u001B[0;32m    242\u001B[0m         \u001B[1;32mif\u001B[0m \u001B[0mself\u001B[0m\u001B[1;33m.\u001B[0m\u001B[0m_actual_context\u001B[0m \u001B[1;32mis\u001B[0m \u001B[1;32mnot\u001B[0m \u001B[1;32mNone\u001B[0m \u001B[1;32mand\u001B[0m \u001B[1;32mnot\u001B[0m \u001B[0mforce\u001B[0m\u001B[1;33m:\u001B[0m\u001B[1;33m\u001B[0m\u001B[1;33m\u001B[0m\u001B[0m\n\u001B[1;32m--> 243\u001B[1;33m             \u001B[1;32mraise\u001B[0m \u001B[0mRuntimeError\u001B[0m\u001B[1;33m(\u001B[0m\u001B[1;34m'context has already been set'\u001B[0m\u001B[1;33m)\u001B[0m\u001B[1;33m\u001B[0m\u001B[1;33m\u001B[0m\u001B[0m\n\u001B[0m\u001B[0;32m    244\u001B[0m         \u001B[1;32mif\u001B[0m \u001B[0mmethod\u001B[0m \u001B[1;32mis\u001B[0m \u001B[1;32mNone\u001B[0m \u001B[1;32mand\u001B[0m \u001B[0mforce\u001B[0m\u001B[1;33m:\u001B[0m\u001B[1;33m\u001B[0m\u001B[1;33m\u001B[0m\u001B[0m\n\u001B[0;32m    245\u001B[0m             \u001B[0mself\u001B[0m\u001B[1;33m.\u001B[0m\u001B[0m_actual_context\u001B[0m \u001B[1;33m=\u001B[0m \u001B[1;32mNone\u001B[0m\u001B[1;33m\u001B[0m\u001B[1;33m\u001B[0m\u001B[0m\n",
      "\u001B[1;31mRuntimeError\u001B[0m: context has already been set"
     ]
    }
   ],
   "source": [
    "\"\"\"run.py:\"\"\"\n",
    "#!/usr/bin/env python\n",
    "import os\n",
    "import torch\n",
    "import torch.distributed as dist\n",
    "import torch.multiprocessing as mp\n",
    "\n",
    "def run(rank, size):\n",
    "    \"\"\" Distributed function to be implemented later. \"\"\"\n",
    "    pass\n",
    "\n",
    "def init_process(rank, size, fn, backend='gloo'):\n",
    "    \"\"\" Initialize the distributed environment. \"\"\"\n",
    "    os.environ['MASTER_ADDR'] = '127.0.0.1'\n",
    "    os.environ['MASTER_PORT'] = '29500'\n",
    "    dist.init_process_group(backend, rank=rank, world_size=size)\n",
    "    fn(rank, size)\n",
    "\n",
    "\n",
    "if __name__ == \"__main__\":\n",
    "    size = 2\n",
    "    processes = []\n",
    "    mp.set_start_method(\"spawn\")\n",
    "    for rank in range(size):\n",
    "        p = mp.Process(target=init_process, args=(rank, size, run))\n",
    "        p.start()\n",
    "        processes.append(p)\n",
    "\n",
    "    for p in processes:\n",
    "        p.join()"
   ]
  },
  {
   "cell_type": "code",
   "execution_count": null,
   "metadata": {},
   "outputs": [],
   "source": []
  }
 ],
 "metadata": {
  "kernelspec": {
   "display_name": "Python 3 (ipykernel)",
   "language": "python",
   "name": "python3"
  },
  "language_info": {
   "codemirror_mode": {
    "name": "ipython",
    "version": 3
   },
   "file_extension": ".py",
   "mimetype": "text/x-python",
   "name": "python",
   "nbconvert_exporter": "python",
   "pygments_lexer": "ipython3",
   "version": "3.9.13"
  }
 },
 "nbformat": 4,
 "nbformat_minor": 1
}
